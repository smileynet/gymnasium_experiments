{
 "cells": [
  {
   "cell_type": "code",
   "execution_count": 3,
   "id": "12861f4e-1e05-4487-a073-41437a91907a",
   "metadata": {
    "tags": []
   },
   "outputs": [
    {
     "name": "stdout",
     "output_type": "stream",
     "text": [
      "Requirement already satisfied: wheel in /usr/local/lib/python3.11/dist-packages (0.44.0)\n",
      "Requirement already satisfied: setuptools in /usr/local/lib/python3.11/dist-packages (75.0.0)\n",
      "Requirement already satisfied: pip in /usr/local/lib/python3.11/dist-packages (24.2)\n",
      "\u001b[33mWARNING: Running pip as the 'root' user can result in broken permissions and conflicting behaviour with the system package manager, possibly rendering your system unusable.It is recommended to use a virtual environment instead: https://pip.pypa.io/warnings/venv. Use the --root-user-action option if you know what you are doing and want to suppress this warning.\u001b[0m\u001b[33m\n",
      "\u001b[0mCollecting blinker\n",
      "  Using cached blinker-1.8.2-py3-none-any.whl.metadata (1.6 kB)\n",
      "Using cached blinker-1.8.2-py3-none-any.whl (9.5 kB)\n",
      "Installing collected packages: blinker\n",
      "Successfully installed blinker-1.8.2\n",
      "\u001b[33mWARNING: Running pip as the 'root' user can result in broken permissions and conflicting behaviour with the system package manager, possibly rendering your system unusable.It is recommended to use a virtual environment instead: https://pip.pypa.io/warnings/venv. Use the --root-user-action option if you know what you are doing and want to suppress this warning.\u001b[0m\u001b[33m\n",
      "\u001b[0m"
     ]
    }
   ],
   "source": [
    "!pip install wheel setuptools pip --upgrade\n",
    "!pip install --ignore-installed blinker"
   ]
  },
  {
   "cell_type": "code",
   "execution_count": 2,
   "id": "5e37bf97-7dfb-4aaa-9ee6-20476129cd6d",
   "metadata": {
    "tags": []
   },
   "outputs": [
    {
     "name": "stdout",
     "output_type": "stream",
     "text": [
      "\u001b[33mWARNING: Running pip as the 'root' user can result in broken permissions and conflicting behaviour with the system package manager, possibly rendering your system unusable.It is recommended to use a virtual environment instead: https://pip.pypa.io/warnings/venv. Use the --root-user-action option if you know what you are doing and want to suppress this warning.\u001b[0m\u001b[33m\n",
      "\u001b[0mNote: you may need to restart the kernel to use updated packages.\n"
     ]
    }
   ],
   "source": [
    "%pip install -q dagshub mlflow gputil"
   ]
  },
  {
   "cell_type": "code",
   "execution_count": 4,
   "id": "db0b27d5-a818-46bc-955c-10de0702e3a9",
   "metadata": {
    "tags": []
   },
   "outputs": [
    {
     "name": "stdout",
     "output_type": "stream",
     "text": [
      "Collecting swig\n",
      "  Using cached swig-4.2.1-py2.py3-none-manylinux_2_5_x86_64.manylinux1_x86_64.whl.metadata (3.6 kB)\n",
      "Requirement already satisfied: mlflow in /usr/local/lib/python3.11/dist-packages (2.16.1)\n",
      "Collecting ray[rllib]\n",
      "  Using cached ray-2.35.0-cp311-cp311-manylinux2014_x86_64.whl.metadata (16 kB)\n",
      "Requirement already satisfied: click>=7.0 in /usr/local/lib/python3.11/dist-packages (from ray[rllib]) (8.1.7)\n",
      "Requirement already satisfied: filelock in /usr/local/lib/python3.11/dist-packages (from ray[rllib]) (3.13.1)\n",
      "Requirement already satisfied: jsonschema in /usr/local/lib/python3.11/dist-packages (from ray[rllib]) (4.21.1)\n",
      "Collecting msgpack<2.0.0,>=1.0.0 (from ray[rllib])\n",
      "  Using cached msgpack-1.1.0-cp311-cp311-manylinux_2_17_x86_64.manylinux2014_x86_64.whl.metadata (8.4 kB)\n",
      "Requirement already satisfied: packaging in /usr/local/lib/python3.11/dist-packages (from ray[rllib]) (23.2)\n",
      "Requirement already satisfied: protobuf!=3.19.5,>=3.15.3 in /usr/local/lib/python3.11/dist-packages (from ray[rllib]) (4.23.4)\n",
      "Requirement already satisfied: pyyaml in /usr/lib/python3/dist-packages (from ray[rllib]) (5.4.1)\n",
      "Requirement already satisfied: aiosignal in /usr/local/lib/python3.11/dist-packages (from ray[rllib]) (1.3.1)\n",
      "Requirement already satisfied: frozenlist in /usr/local/lib/python3.11/dist-packages (from ray[rllib]) (1.4.1)\n",
      "Requirement already satisfied: requests in /usr/local/lib/python3.11/dist-packages (from ray[rllib]) (2.31.0)\n",
      "Requirement already satisfied: pandas in /usr/local/lib/python3.11/dist-packages (from ray[rllib]) (2.2.0)\n",
      "Collecting tensorboardX>=1.9 (from ray[rllib])\n",
      "  Using cached tensorboardX-2.6.2.2-py2.py3-none-any.whl.metadata (5.8 kB)\n",
      "Requirement already satisfied: pyarrow>=6.0.1 in /usr/local/lib/python3.11/dist-packages (from ray[rllib]) (15.0.0)\n",
      "Requirement already satisfied: fsspec in /usr/local/lib/python3.11/dist-packages (from ray[rllib]) (2023.6.0)\n",
      "Collecting dm-tree (from ray[rllib])\n",
      "  Using cached dm_tree-0.1.8-cp311-cp311-manylinux_2_17_x86_64.manylinux2014_x86_64.whl.metadata (1.9 kB)\n",
      "Collecting gymnasium==0.28.1 (from ray[rllib])\n",
      "  Using cached gymnasium-0.28.1-py3-none-any.whl.metadata (9.2 kB)\n",
      "Collecting lz4 (from ray[rllib])\n",
      "  Using cached lz4-4.3.3-cp311-cp311-manylinux_2_17_x86_64.manylinux2014_x86_64.whl.metadata (3.7 kB)\n",
      "Requirement already satisfied: scikit-image in /usr/local/lib/python3.11/dist-packages (from ray[rllib]) (0.21.0)\n",
      "Requirement already satisfied: scipy in /usr/local/lib/python3.11/dist-packages (from ray[rllib]) (1.11.2)\n",
      "Requirement already satisfied: typer in /usr/local/lib/python3.11/dist-packages (from ray[rllib]) (0.9.0)\n",
      "Requirement already satisfied: rich in /usr/local/lib/python3.11/dist-packages (from ray[rllib]) (13.1.0)\n",
      "Requirement already satisfied: numpy>=1.21.0 in /usr/local/lib/python3.11/dist-packages (from gymnasium==0.28.1->ray[rllib]) (1.26.3)\n",
      "Collecting jax-jumpy>=1.0.0 (from gymnasium==0.28.1->ray[rllib])\n",
      "  Using cached jax_jumpy-1.0.0-py3-none-any.whl.metadata (15 kB)\n",
      "Requirement already satisfied: cloudpickle>=1.2.0 in /usr/local/lib/python3.11/dist-packages (from gymnasium==0.28.1->ray[rllib]) (2.2.1)\n",
      "Requirement already satisfied: typing-extensions>=4.3.0 in /usr/local/lib/python3.11/dist-packages (from gymnasium==0.28.1->ray[rllib]) (4.9.0)\n",
      "Collecting farama-notifications>=0.0.1 (from gymnasium==0.28.1->ray[rllib])\n",
      "  Using cached Farama_Notifications-0.0.4-py3-none-any.whl.metadata (558 bytes)\n",
      "Requirement already satisfied: mlflow-skinny==2.16.1 in /usr/local/lib/python3.11/dist-packages (from mlflow) (2.16.1)\n",
      "Requirement already satisfied: Flask<4 in /usr/local/lib/python3.11/dist-packages (from mlflow) (3.0.3)\n",
      "Requirement already satisfied: alembic!=1.10.0,<2 in /usr/local/lib/python3.11/dist-packages (from mlflow) (1.13.2)\n",
      "Requirement already satisfied: docker<8,>=4.0.0 in /usr/local/lib/python3.11/dist-packages (from mlflow) (7.1.0)\n",
      "Requirement already satisfied: graphene<4 in /usr/local/lib/python3.11/dist-packages (from mlflow) (3.3)\n",
      "Requirement already satisfied: markdown<4,>=3.3 in /usr/local/lib/python3.11/dist-packages (from mlflow) (3.5.2)\n",
      "Requirement already satisfied: matplotlib<4 in /usr/local/lib/python3.11/dist-packages (from mlflow) (3.7.3)\n",
      "Requirement already satisfied: scikit-learn<2 in /usr/local/lib/python3.11/dist-packages (from mlflow) (1.3.0)\n",
      "Requirement already satisfied: sqlalchemy<3,>=1.4.0 in /usr/local/lib/python3.11/dist-packages (from mlflow) (2.0.21)\n",
      "Requirement already satisfied: Jinja2<4,>=2.11 in /usr/local/lib/python3.11/dist-packages (from mlflow) (3.1.3)\n",
      "Requirement already satisfied: gunicorn<24 in /usr/local/lib/python3.11/dist-packages (from mlflow) (23.0.0)\n",
      "Requirement already satisfied: cachetools<6,>=5.0.0 in /usr/local/lib/python3.11/dist-packages (from mlflow-skinny==2.16.1->mlflow) (5.3.2)\n",
      "Requirement already satisfied: databricks-sdk<1,>=0.20.0 in /usr/local/lib/python3.11/dist-packages (from mlflow-skinny==2.16.1->mlflow) (0.32.1)\n",
      "Requirement already satisfied: gitpython<4,>=3.1.9 in /usr/local/lib/python3.11/dist-packages (from mlflow-skinny==2.16.1->mlflow) (3.1.41)\n",
      "Requirement already satisfied: importlib-metadata!=4.7.0,<9,>=3.7.0 in /usr/local/lib/python3.11/dist-packages (from mlflow-skinny==2.16.1->mlflow) (8.4.0)\n",
      "Requirement already satisfied: opentelemetry-api<3,>=1.9.0 in /usr/local/lib/python3.11/dist-packages (from mlflow-skinny==2.16.1->mlflow) (1.27.0)\n",
      "Requirement already satisfied: opentelemetry-sdk<3,>=1.9.0 in /usr/local/lib/python3.11/dist-packages (from mlflow-skinny==2.16.1->mlflow) (1.27.0)\n",
      "Requirement already satisfied: sqlparse<1,>=0.4.0 in /usr/local/lib/python3.11/dist-packages (from mlflow-skinny==2.16.1->mlflow) (0.5.1)\n",
      "Requirement already satisfied: Mako in /usr/local/lib/python3.11/dist-packages (from alembic!=1.10.0,<2->mlflow) (1.3.5)\n",
      "Requirement already satisfied: urllib3>=1.26.0 in /usr/local/lib/python3.11/dist-packages (from docker<8,>=4.0.0->mlflow) (2.0.7)\n",
      "Requirement already satisfied: Werkzeug>=3.0.0 in /usr/local/lib/python3.11/dist-packages (from Flask<4->mlflow) (3.0.1)\n",
      "Requirement already satisfied: itsdangerous>=2.1.2 in /usr/local/lib/python3.11/dist-packages (from Flask<4->mlflow) (2.2.0)\n",
      "Requirement already satisfied: blinker>=1.6.2 in /usr/local/lib/python3.11/dist-packages (from Flask<4->mlflow) (1.8.2)\n",
      "Requirement already satisfied: graphql-core<3.3,>=3.1 in /usr/local/lib/python3.11/dist-packages (from graphene<4->mlflow) (3.1.7)\n",
      "Requirement already satisfied: graphql-relay<3.3,>=3.1 in /usr/local/lib/python3.11/dist-packages (from graphene<4->mlflow) (3.1.5)\n",
      "Requirement already satisfied: aniso8601<10,>=8 in /usr/local/lib/python3.11/dist-packages (from graphene<4->mlflow) (9.0.1)\n",
      "Requirement already satisfied: MarkupSafe>=2.0 in /usr/local/lib/python3.11/dist-packages (from Jinja2<4,>=2.11->mlflow) (2.1.4)\n",
      "Requirement already satisfied: contourpy>=1.0.1 in /usr/local/lib/python3.11/dist-packages (from matplotlib<4->mlflow) (1.2.0)\n",
      "Requirement already satisfied: cycler>=0.10 in /usr/local/lib/python3.11/dist-packages (from matplotlib<4->mlflow) (0.12.1)\n",
      "Requirement already satisfied: fonttools>=4.22.0 in /usr/local/lib/python3.11/dist-packages (from matplotlib<4->mlflow) (4.47.2)\n",
      "Requirement already satisfied: kiwisolver>=1.0.1 in /usr/local/lib/python3.11/dist-packages (from matplotlib<4->mlflow) (1.4.5)\n",
      "Requirement already satisfied: pillow>=6.2.0 in /usr/local/lib/python3.11/dist-packages (from matplotlib<4->mlflow) (9.5.0)\n",
      "Requirement already satisfied: pyparsing>=2.3.1 in /usr/lib/python3/dist-packages (from matplotlib<4->mlflow) (2.4.7)\n",
      "Requirement already satisfied: python-dateutil>=2.7 in /usr/local/lib/python3.11/dist-packages (from matplotlib<4->mlflow) (2.8.2)\n",
      "Requirement already satisfied: pytz>=2020.1 in /usr/lib/python3/dist-packages (from pandas->ray[rllib]) (2022.1)\n",
      "Requirement already satisfied: tzdata>=2022.7 in /usr/local/lib/python3.11/dist-packages (from pandas->ray[rllib]) (2023.4)\n",
      "Requirement already satisfied: charset-normalizer<4,>=2 in /usr/local/lib/python3.11/dist-packages (from requests->ray[rllib]) (3.3.2)\n",
      "Requirement already satisfied: idna<4,>=2.5 in /usr/lib/python3/dist-packages (from requests->ray[rllib]) (3.3)\n",
      "Requirement already satisfied: certifi>=2017.4.17 in /usr/lib/python3/dist-packages (from requests->ray[rllib]) (2020.6.20)\n",
      "Requirement already satisfied: joblib>=1.1.1 in /usr/local/lib/python3.11/dist-packages (from scikit-learn<2->mlflow) (1.3.2)\n",
      "Requirement already satisfied: threadpoolctl>=2.0.0 in /usr/local/lib/python3.11/dist-packages (from scikit-learn<2->mlflow) (3.2.0)\n",
      "Requirement already satisfied: greenlet!=0.4.17 in /usr/lib/python3/dist-packages (from sqlalchemy<3,>=1.4.0->mlflow) (1.1.2)\n",
      "Requirement already satisfied: attrs>=22.2.0 in /usr/local/lib/python3.11/dist-packages (from jsonschema->ray[rllib]) (23.1.0)\n",
      "Requirement already satisfied: jsonschema-specifications>=2023.03.6 in /usr/local/lib/python3.11/dist-packages (from jsonschema->ray[rllib]) (2023.12.1)\n",
      "Requirement already satisfied: referencing>=0.28.4 in /usr/local/lib/python3.11/dist-packages (from jsonschema->ray[rllib]) (0.32.1)\n",
      "Requirement already satisfied: rpds-py>=0.7.1 in /usr/local/lib/python3.11/dist-packages (from jsonschema->ray[rllib]) (0.17.1)\n",
      "Requirement already satisfied: commonmark<0.10.0,>=0.9.0 in /usr/local/lib/python3.11/dist-packages (from rich->ray[rllib]) (0.9.1)\n",
      "Requirement already satisfied: pygments<3.0.0,>=2.6.0 in /usr/local/lib/python3.11/dist-packages (from rich->ray[rllib]) (2.17.2)\n",
      "Requirement already satisfied: networkx>=2.8 in /usr/local/lib/python3.11/dist-packages (from scikit-image->ray[rllib]) (3.2.1)\n",
      "Requirement already satisfied: imageio>=2.27 in /usr/local/lib/python3.11/dist-packages (from scikit-image->ray[rllib]) (2.33.1)\n",
      "Requirement already satisfied: tifffile>=2022.8.12 in /usr/local/lib/python3.11/dist-packages (from scikit-image->ray[rllib]) (2023.12.9)\n",
      "Requirement already satisfied: PyWavelets>=1.1.1 in /usr/local/lib/python3.11/dist-packages (from scikit-image->ray[rllib]) (1.5.0)\n",
      "Requirement already satisfied: lazy_loader>=0.2 in /usr/local/lib/python3.11/dist-packages (from scikit-image->ray[rllib]) (0.3)\n",
      "Requirement already satisfied: google-auth~=2.0 in /usr/local/lib/python3.11/dist-packages (from databricks-sdk<1,>=0.20.0->mlflow-skinny==2.16.1->mlflow) (2.26.2)\n",
      "Requirement already satisfied: gitdb<5,>=4.0.1 in /usr/local/lib/python3.11/dist-packages (from gitpython<4,>=3.1.9->mlflow-skinny==2.16.1->mlflow) (4.0.11)\n",
      "Requirement already satisfied: zipp>=0.5 in /usr/lib/python3/dist-packages (from importlib-metadata!=4.7.0,<9,>=3.7.0->mlflow-skinny==2.16.1->mlflow) (1.0.0)\n",
      "Requirement already satisfied: deprecated>=1.2.6 in /usr/local/lib/python3.11/dist-packages (from opentelemetry-api<3,>=1.9.0->mlflow-skinny==2.16.1->mlflow) (1.2.14)\n",
      "Requirement already satisfied: opentelemetry-semantic-conventions==0.48b0 in /usr/local/lib/python3.11/dist-packages (from opentelemetry-sdk<3,>=1.9.0->mlflow-skinny==2.16.1->mlflow) (0.48b0)\n",
      "Requirement already satisfied: six>=1.5 in /usr/lib/python3/dist-packages (from python-dateutil>=2.7->matplotlib<4->mlflow) (1.16.0)\n",
      "Requirement already satisfied: wrapt<2,>=1.10 in /usr/local/lib/python3.11/dist-packages (from deprecated>=1.2.6->opentelemetry-api<3,>=1.9.0->mlflow-skinny==2.16.1->mlflow) (1.14.1)\n",
      "Requirement already satisfied: smmap<6,>=3.0.1 in /usr/local/lib/python3.11/dist-packages (from gitdb<5,>=4.0.1->gitpython<4,>=3.1.9->mlflow-skinny==2.16.1->mlflow) (5.0.1)\n",
      "Requirement already satisfied: pyasn1-modules>=0.2.1 in /usr/local/lib/python3.11/dist-packages (from google-auth~=2.0->databricks-sdk<1,>=0.20.0->mlflow-skinny==2.16.1->mlflow) (0.3.0)\n",
      "Requirement already satisfied: rsa<5,>=3.1.4 in /usr/lib/python3/dist-packages (from google-auth~=2.0->databricks-sdk<1,>=0.20.0->mlflow-skinny==2.16.1->mlflow) (4.8)\n",
      "Requirement already satisfied: pyasn1<0.6.0,>=0.4.6 in /usr/lib/python3/dist-packages (from pyasn1-modules>=0.2.1->google-auth~=2.0->databricks-sdk<1,>=0.20.0->mlflow-skinny==2.16.1->mlflow) (0.4.8)\n",
      "Using cached swig-4.2.1-py2.py3-none-manylinux_2_5_x86_64.manylinux1_x86_64.whl (1.9 MB)\n",
      "Using cached gymnasium-0.28.1-py3-none-any.whl (925 kB)\n",
      "Using cached msgpack-1.1.0-cp311-cp311-manylinux_2_17_x86_64.manylinux2014_x86_64.whl (403 kB)\n",
      "Using cached tensorboardX-2.6.2.2-py2.py3-none-any.whl (101 kB)\n",
      "Using cached dm_tree-0.1.8-cp311-cp311-manylinux_2_17_x86_64.manylinux2014_x86_64.whl (152 kB)\n",
      "Using cached lz4-4.3.3-cp311-cp311-manylinux_2_17_x86_64.manylinux2014_x86_64.whl (1.3 MB)\n",
      "Using cached ray-2.35.0-cp311-cp311-manylinux2014_x86_64.whl (65.1 MB)\n",
      "Using cached Farama_Notifications-0.0.4-py3-none-any.whl (2.5 kB)\n",
      "Using cached jax_jumpy-1.0.0-py3-none-any.whl (20 kB)\n",
      "Installing collected packages: swig, farama-notifications, dm-tree, tensorboardX, msgpack, lz4, jax-jumpy, gymnasium, ray\n",
      "Successfully installed dm-tree-0.1.8 farama-notifications-0.0.4 gymnasium-0.28.1 jax-jumpy-1.0.0 lz4-4.3.3 msgpack-1.1.0 ray-2.35.0 swig-4.2.1 tensorboardX-2.6.2.2\n",
      "\u001b[33mWARNING: Running pip as the 'root' user can result in broken permissions and conflicting behaviour with the system package manager, possibly rendering your system unusable.It is recommended to use a virtual environment instead: https://pip.pypa.io/warnings/venv. Use the --root-user-action option if you know what you are doing and want to suppress this warning.\u001b[0m\u001b[33m\n",
      "\u001b[0mRequirement already satisfied: gymnasium[box2d] in /usr/local/lib/python3.11/dist-packages (0.28.1)\n",
      "Requirement already satisfied: numpy>=1.21.0 in /usr/local/lib/python3.11/dist-packages (from gymnasium[box2d]) (1.26.3)\n",
      "Requirement already satisfied: jax-jumpy>=1.0.0 in /usr/local/lib/python3.11/dist-packages (from gymnasium[box2d]) (1.0.0)\n",
      "Requirement already satisfied: cloudpickle>=1.2.0 in /usr/local/lib/python3.11/dist-packages (from gymnasium[box2d]) (2.2.1)\n",
      "Requirement already satisfied: typing-extensions>=4.3.0 in /usr/local/lib/python3.11/dist-packages (from gymnasium[box2d]) (4.9.0)\n",
      "Requirement already satisfied: farama-notifications>=0.0.1 in /usr/local/lib/python3.11/dist-packages (from gymnasium[box2d]) (0.0.4)\n",
      "Collecting box2d-py==2.3.5 (from gymnasium[box2d])\n",
      "  Using cached box2d-py-2.3.5.tar.gz (374 kB)\n",
      "  Preparing metadata (setup.py) ... \u001b[?25ldone\n",
      "\u001b[?25hCollecting pygame==2.1.3 (from gymnasium[box2d])\n",
      "  Using cached pygame-2.1.3-cp311-cp311-manylinux_2_17_x86_64.manylinux2014_x86_64.whl.metadata (9.3 kB)\n",
      "Requirement already satisfied: swig==4.* in /usr/local/lib/python3.11/dist-packages (from gymnasium[box2d]) (4.2.1)\n",
      "Using cached pygame-2.1.3-cp311-cp311-manylinux_2_17_x86_64.manylinux2014_x86_64.whl (13.7 MB)\n",
      "Building wheels for collected packages: box2d-py\n",
      "  Building wheel for box2d-py (setup.py) ... \u001b[?25ldone\n",
      "\u001b[?25h  Created wheel for box2d-py: filename=box2d_py-2.3.5-cp311-cp311-linux_x86_64.whl size=2379131 sha256=bb03044a674f4c1ba58285206e626d5bd8fd98753468b0aae7dedbfd458e8bf0\n",
      "  Stored in directory: /root/.cache/pip/wheels/ab/f1/0c/d56f4a2bdd12bae0a0693ec33f2f0daadb5eb9753c78fa5308\n",
      "Successfully built box2d-py\n",
      "Installing collected packages: box2d-py, pygame\n",
      "Successfully installed box2d-py-2.3.5 pygame-2.1.3\n",
      "\u001b[33mWARNING: Running pip as the 'root' user can result in broken permissions and conflicting behaviour with the system package manager, possibly rendering your system unusable.It is recommended to use a virtual environment instead: https://pip.pypa.io/warnings/venv. Use the --root-user-action option if you know what you are doing and want to suppress this warning.\u001b[0m\u001b[33m\n",
      "\u001b[0m"
     ]
    }
   ],
   "source": [
    "!pip install swig \"ray[rllib]\" mlflow\n",
    "!pip install \"gymnasium[box2d]\""
   ]
  },
  {
   "cell_type": "code",
   "execution_count": 5,
   "id": "d00514e3-8834-47ee-9409-dd8e233cf931",
   "metadata": {
    "tags": []
   },
   "outputs": [],
   "source": [
    "import warnings\n",
    "warnings.filterwarnings('ignore')\n",
    "import gymnasium as gym\n",
    "import mlflow"
   ]
  },
  {
   "cell_type": "code",
   "execution_count": 6,
   "id": "5f4dbd7d-3c4b-4d12-9abc-11e7d8df25c0",
   "metadata": {
    "tags": []
   },
   "outputs": [
    {
     "data": {
      "text/html": [
       "<pre style=\"white-space:pre;overflow-x:auto;line-height:normal;font-family:Menlo,'DejaVu Sans Mono',consolas,'Courier New',monospace\">                                       <span style=\"font-weight: bold\">❗❗❗ AUTHORIZATION REQUIRED ❗❗❗</span>                                        \n",
       "</pre>\n"
      ],
      "text/plain": [
       "                                       \u001b[1m❗❗❗ AUTHORIZATION REQUIRED ❗❗❗\u001b[0m                                        \n"
      ]
     },
     "metadata": {},
     "output_type": "display_data"
    },
    {
     "data": {
      "application/vnd.jupyter.widget-view+json": {
       "model_id": "",
       "version_major": 2,
       "version_minor": 0
      },
      "text/plain": [
       "Output()"
      ]
     },
     "metadata": {},
     "output_type": "display_data"
    },
    {
     "name": "stdout",
     "output_type": "stream",
     "text": [
      "\n",
      "\n",
      "Open the following link in your browser to authorize the client:\n",
      "https://dagshub.com/login/oauth/authorize?state=9253b0f0-29ba-4b0f-822a-f7fc39d5e4cd&client_id=32b60ba385aa7cecf24046d8195a71c07dd345d9657977863b52e7748e0f0f28&middleman_request_id=0840d533f5ea143160575891d617dd256e70570d0d765c4950ab9898c8d00999\n",
      "\n",
      "\n"
     ]
    },
    {
     "data": {
      "text/html": [
       "<pre style=\"white-space:pre;overflow-x:auto;line-height:normal;font-family:Menlo,'DejaVu Sans Mono',consolas,'Courier New',monospace\"></pre>\n"
      ],
      "text/plain": []
     },
     "metadata": {},
     "output_type": "display_data"
    },
    {
     "data": {
      "text/html": [
       "<pre style=\"white-space:pre;overflow-x:auto;line-height:normal;font-family:Menlo,'DejaVu Sans Mono',consolas,'Courier New',monospace\">Accessing as smileynet\n",
       "</pre>\n"
      ],
      "text/plain": [
       "Accessing as smileynet\n"
      ]
     },
     "metadata": {},
     "output_type": "display_data"
    },
    {
     "data": {
      "text/html": [
       "<pre style=\"white-space:pre;overflow-x:auto;line-height:normal;font-family:Menlo,'DejaVu Sans Mono',consolas,'Courier New',monospace\">Initialized MLflow to track repo <span style=\"color: #008000; text-decoration-color: #008000\">\"smileynet/gymnasium\"</span>\n",
       "</pre>\n"
      ],
      "text/plain": [
       "Initialized MLflow to track repo \u001b[32m\"smileynet/gymnasium\"\u001b[0m\n"
      ]
     },
     "metadata": {},
     "output_type": "display_data"
    },
    {
     "data": {
      "text/html": [
       "<pre style=\"white-space:pre;overflow-x:auto;line-height:normal;font-family:Menlo,'DejaVu Sans Mono',consolas,'Courier New',monospace\">Repository smileynet/gymnasium initialized!\n",
       "</pre>\n"
      ],
      "text/plain": [
       "Repository smileynet/gymnasium initialized!\n"
      ]
     },
     "metadata": {},
     "output_type": "display_data"
    }
   ],
   "source": [
    "import dagshub\n",
    "dagshub.init(repo_owner='smileynet', repo_name='gymnasium', mlflow=True)\n",
    "mlflow.autolog()"
   ]
  },
  {
   "cell_type": "code",
   "execution_count": null,
   "id": "d4fc493e-cc38-47fd-88f8-04853de85c1a",
   "metadata": {
    "tags": []
   },
   "outputs": [],
   "source": [
    "from ray.rllib.algorithms.ppo import PPOConfig\n",
    "from ray import air\n",
    "from ray import tune\n",
    "\n",
    "config = (\n",
    "    PPOConfig()\n",
    "    # Activate new API stack.\n",
    "    .api_stack(\n",
    "        enable_rl_module_and_learner=True,\n",
    "        enable_env_runner_and_connector_v2=True,\n",
    "    )\n",
    "    # Set the config object's env.\n",
    "    .environment(env=\"LunarLander-v2\")\n",
    "    # Update the config object's training parameters.\n",
    "    .training(\n",
    "        lr=0.001, clip_param=0.2\n",
    "    )\n",
    ")\n",
    "\n",
    "tune.Tuner(\n",
    "    \"PPO\",\n",
    "    run_config=air.RunConfig(stop={\"training_iteration\": 1}),\n",
    "    param_space=config,\n",
    ").fit()"
   ]
  },
  {
   "cell_type": "code",
   "execution_count": null,
   "id": "ca94af8b-9561-4fca-91ab-3549d65a6fed",
   "metadata": {
    "tags": []
   },
   "outputs": [],
   "source": [
    "import torch\n",
    "from ray.train import ScalingConfig\n",
    "from ray.train.torch import TorchTrainer, get_device\n",
    "\n",
    "\n",
    "def train_func():\n",
    "    assert torch.cuda.is_available()\n",
    "\n",
    "    device = get_device()\n",
    "    assert device == torch.device(\"cuda:0\")\n",
    "\n",
    "trainer = TorchTrainer(\n",
    "    train_func,\n",
    "    scaling_config=ScalingConfig(\n",
    "        num_workers=1,\n",
    "        use_gpu=True\n",
    "    )\n",
    ")\n",
    "trainer.fit()"
   ]
  },
  {
   "cell_type": "code",
   "execution_count": null,
   "id": "d2a0b00a-9c93-4698-9e6d-6374fbc1f191",
   "metadata": {
    "tags": []
   },
   "outputs": [],
   "source": [
    "import os\n",
    "import tempfile\n",
    "import time\n",
    "\n",
    "import mlflow\n",
    "\n",
    "from ray import train, tune\n",
    "from ray.air.integrations.mlflow import MLflowLoggerCallback, setup_mlflow"
   ]
  },
  {
   "cell_type": "code",
   "execution_count": null,
   "id": "88ee3bb1-a11f-469f-ad0a-860771d7a956",
   "metadata": {},
   "outputs": [],
   "source": [
    "from ray import train\n",
    "\n",
    "def train_func():\n",
    "    ...\n",
    "    for i in range(num_epochs):\n",
    "        result = model.train(...)\n",
    "        train.report({\"result\": result})"
   ]
  },
  {
   "cell_type": "code",
   "execution_count": null,
   "id": "1ceb0297-7bc1-4c49-b238-fb8747f46f08",
   "metadata": {},
   "outputs": [],
   "source": [
    "import ray\n",
    "from ray import train, tune\n",
    "from ray.tune import Tuner\n",
    "from ray.train.xgboost import XGBoostTrainer\n",
    "\n",
    "dataset = ray.data.read_csv(\"s3://anonymous@air-example-data/breast_cancer.csv\")\n",
    "\n",
    "trainer = XGBoostTrainer(\n",
    "    label_column=\"target\",\n",
    "    params={\n",
    "        \"objective\": \"binary:logistic\",\n",
    "        \"eval_metric\": [\"logloss\", \"error\"],\n",
    "        \"max_depth\": 4,\n",
    "    },\n",
    "    datasets={\"train\": dataset},\n",
    "    scaling_config=train.ScalingConfig(num_workers=2),\n",
    ")\n",
    "\n",
    "# Create Tuner\n",
    "tuner = Tuner(\n",
    "    trainer,\n",
    "    # Add some parameters to tune\n",
    "    param_space={\"params\": {\"max_depth\": tune.choice([4, 5, 6])}},\n",
    "    # Specify tuning behavior\n",
    "    tune_config=tune.TuneConfig(metric=\"train-logloss\", mode=\"min\", num_samples=2),\n",
    ")\n",
    "# Run tuning job\n",
    "tuner.fit()"
   ]
  },
  {
   "cell_type": "code",
   "execution_count": null,
   "id": "a9706ac8-a7ae-4646-9339-329a6f25aff3",
   "metadata": {},
   "outputs": [],
   "source": [
    "from ray.tune import TuneConfig\n",
    "from ray.tune.search.bayesopt import BayesOptSearch\n",
    "\n",
    "tune_config = TuneConfig(\n",
    "    metric=\"loss\",\n",
    "    mode=\"min\",\n",
    "    max_concurrent_trials=10,\n",
    "    num_samples=100,\n",
    "    search_alg=BayesOptSearch(),\n",
    ")"
   ]
  },
  {
   "cell_type": "code",
   "execution_count": 7,
   "id": "0154d0c3-30d5-4ac2-b020-9c0c22defa9e",
   "metadata": {
    "tags": []
   },
   "outputs": [
    {
     "name": "stderr",
     "output_type": "stream",
     "text": [
      "2024/09/16 07:07:28 WARNING mlflow.tracking.fluent: Exception raised while enabling autologging for transformers: Failed to import transformers.trainer because of the following error (look up to see its traceback):\n",
      "Failed to import transformers.integrations.integration_utils because of the following error (look up to see its traceback):\n",
      "cannot import name 'DTensor' from partially initialized module 'torch.distributed._tensor' (most likely due to a circular import) (/usr/local/lib/python3.11/dist-packages/torch/distributed/_tensor/__init__.py)\n"
     ]
    },
    {
     "ename": "ImportError",
     "evalue": "cannot import name 'MLflowLoggerCallback' from 'ray.tune.logger' (/usr/local/lib/python3.11/dist-packages/ray/tune/logger/__init__.py)",
     "output_type": "error",
     "traceback": [
      "\u001b[0;31m---------------------------------------------------------------------------\u001b[0m",
      "\u001b[0;31mImportError\u001b[0m                               Traceback (most recent call last)",
      "Cell \u001b[0;32mIn[7], line 3\u001b[0m\n\u001b[1;32m      1\u001b[0m \u001b[38;5;28;01mfrom\u001b[39;00m \u001b[38;5;21;01mray\u001b[39;00m \u001b[38;5;28;01mimport\u001b[39;00m train, tune\n\u001b[1;32m      2\u001b[0m \u001b[38;5;28;01mfrom\u001b[39;00m \u001b[38;5;21;01mray\u001b[39;00m\u001b[38;5;21;01m.\u001b[39;00m\u001b[38;5;21;01mtrain\u001b[39;00m\u001b[38;5;21;01m.\u001b[39;00m\u001b[38;5;21;01mtorch\u001b[39;00m \u001b[38;5;28;01mimport\u001b[39;00m get_device\n\u001b[0;32m----> 3\u001b[0m \u001b[38;5;28;01mfrom\u001b[39;00m \u001b[38;5;21;01mray\u001b[39;00m\u001b[38;5;21;01m.\u001b[39;00m\u001b[38;5;21;01mtune\u001b[39;00m\u001b[38;5;21;01m.\u001b[39;00m\u001b[38;5;21;01mlogger\u001b[39;00m \u001b[38;5;28;01mimport\u001b[39;00m MLflowLoggerCallback\n\u001b[1;32m      5\u001b[0m \u001b[38;5;28;01massert\u001b[39;00m torch\u001b[38;5;241m.\u001b[39mcuda\u001b[38;5;241m.\u001b[39mis_available()\n\u001b[1;32m      7\u001b[0m device \u001b[38;5;241m=\u001b[39m get_device()\n",
      "\u001b[0;31mImportError\u001b[0m: cannot import name 'MLflowLoggerCallback' from 'ray.tune.logger' (/usr/local/lib/python3.11/dist-packages/ray/tune/logger/__init__.py)"
     ]
    }
   ],
   "source": [
    "from ray import train, tune\n",
    "from ray.train.torch import get_device\n",
    "from ray.tune.logger import MLflowLoggerCallback\n",
    "\n",
    "assert torch.cuda.is_available()\n",
    "\n",
    "device = get_device()\n",
    "assert device == torch.device(\"cuda:0\")\n",
    "    \n",
    "search_space = {\n",
    "    \"lr\": tune.loguniform(1e-4, 1e-2),        # Updated learning rate\n",
    "    #\"lr\": tune.loguniform(5e-6, 5e-4),        # Updated learning rate\n",
    "    \"train_batch_size_per_learner\": tune.randint(32, 256),      # Batch size\n",
    "    #\"n_epochs\": tune.randint(2, 10),          # Number of epochs\n",
    "    \"entropy_coeff\": tune.uniform(0.01, 0.1),      # Entropy coefficient\n",
    "    \"clip_param\": tune.uniform(0.1, 0.3),     # Clip range\n",
    "    #\"gae_lambda\": tune.uniform(0.9, 0.99),    # GAE lambda\n",
    "    \"gamma\": tune.uniform(0.9, 0.999),      # Gamma\n",
    "    #\"kl_coeff\": tune.uniform(0.0, 0.2),          # KL coefficient\n",
    "}\n",
    "\n",
    "config = (\n",
    "    PPOConfig()\n",
    "    .api_stack(\n",
    "        enable_rl_module_and_learner=True,\n",
    "        enable_env_runner_and_connector_v2=True,\n",
    "    )\n",
    "    .environment(\"LunarLander-v2\")\n",
    "    .resources(num_gpus=1)\n",
    "    .training(\n",
    "        kl_coeff=0.3, **search_space,\n",
    "    )\n",
    ")\n",
    "\n",
    "# Initialize the MLflow logger callback\n",
    "mlflow_logger = MLflowLoggerCallback(\n",
    "    #tracking_uri=\"https://dagshub.com/smileynet/gymnasium.mlflow\",  # Adjust this path or use your MLflow server URI\n",
    "    experiment_name=\"ppo_lunarlander-v2\"  # Name of the MLflow experiment\n",
    ")\n",
    "\n",
    "tuner = tune.Tuner(\n",
    "    \"PPO\",\n",
    "    param_space=config,\n",
    "    run_config=train.RunConfig(\n",
    "        stop={\"env_runners/episode_return_mean\": 150.0},\n",
    "        callbacks=[mlflow_logger] \n",
    "    ),\n",
    ")\n",
    "\n",
    "tuner.fit()"
   ]
  },
  {
   "cell_type": "code",
   "execution_count": null,
   "id": "11cb5110-a727-4a2f-9dab-9de338c17c61",
   "metadata": {
    "tags": []
   },
   "outputs": [],
   "source": [
    "from ray.rllib.algorithms.ppo import PPOConfig\n",
    "\n",
    "config = (  # 1. Configure the algorithm,\n",
    "    PPOConfig()\n",
    "    .environment(\"Taxi-v3\")\n",
    "    .env_runners(num_env_runners=2)\n",
    "    .framework(\"torch\")\n",
    "    .training(model={\"fcnet_hiddens\": [64, 64]})\n",
    "    .evaluation(evaluation_num_env_runners=1)\n",
    ")\n",
    "\n",
    "algo = config.build()  # 2. build the algorithm,\n",
    "\n",
    "for _ in range(5):\n",
    "    print(algo.train())  # 3. train it,\n",
    "\n",
    "algo.evaluate()  # 4. and evaluate it."
   ]
  },
  {
   "cell_type": "code",
   "execution_count": null,
   "id": "14e3f67f-cb8f-4619-b529-d4c8bf2510e7",
   "metadata": {
    "tags": []
   },
   "outputs": [],
   "source": [
    "from pprint import pprint\n",
    "\n",
    "from ray.rllib.algorithms.ppo import PPOConfig\n",
    "\n",
    "config = (\n",
    "    PPOConfig()\n",
    "    .api_stack(\n",
    "        enable_rl_module_and_learner=True,\n",
    "        enable_env_runner_and_connector_v2=True,\n",
    "    )\n",
    "    .environment(\"CartPole-v1\")\n",
    "    .env_runners(num_env_runners=1)\n",
    ")\n",
    "\n",
    "algo = config.build()\n",
    "\n",
    "for i in range(10):\n",
    "    result = algo.train()\n",
    "    result.pop(\"config\")\n",
    "    pprint(result)\n",
    "\n",
    "    if i % 5 == 0:\n",
    "        checkpoint_dir = algo.save_to_path()\n",
    "        print(f\"Checkpoint saved in directory {checkpoint_dir}\")"
   ]
  },
  {
   "cell_type": "code",
   "execution_count": null,
   "id": "df401871-669c-4e86-a139-78e9b6143a4a",
   "metadata": {
    "tags": []
   },
   "outputs": [],
   "source": [
    "from ray.rllib.algorithms.ppo import PPOConfig\n",
    "import mlflow\n",
    "\n",
    "with mlflow.start_run():\n",
    "    config = PPOConfig()\n",
    "    # Activate new API stack.\n",
    "    config.api_stack(\n",
    "        enable_rl_module_and_learner=True,\n",
    "        enable_env_runner_and_connector_v2=True,\n",
    "    )\n",
    "    config.environment(\"LunarLander-v2\")\n",
    "    config.env_runners(num_env_runners=1)\n",
    "\n",
    "    config.training(\n",
    "        gamma=0.9, lr=0.01, kl_coeff=0.3, train_batch_size_per_learner=256\n",
    "    )\n",
    "\n",
    "    # Build a Algorithm object from the config and run 1 training iteration.\n",
    "    algo = config.build()\n",
    "    algo.train()\n",
    "    #mlflow.log_metric('accuracy', 42)\n",
    "    #mlflow.log_param('Param name', 'Value')"
   ]
  },
  {
   "cell_type": "code",
   "execution_count": null,
   "id": "ad3ab6b1-d658-487b-8841-ed45c132de6e",
   "metadata": {},
   "outputs": [],
   "source": [
    "from ray import train, tune\n",
    "\n",
    "config = (\n",
    "    PPOConfig()\n",
    "    .api_stack(\n",
    "        enable_rl_module_and_learner=True,\n",
    "        enable_env_runner_and_connector_v2=True,\n",
    "    )\n",
    "    .environment(\"CartPole-v1\")\n",
    "    .training(\n",
    "        lr=tune.grid_search([0.01, 0.001, 0.0001]),\n",
    "    )\n",
    ")\n",
    "\n",
    "tuner = tune.Tuner(\n",
    "    \"PPO\",\n",
    "    param_space=config,\n",
    "    run_config=train.RunConfig(\n",
    "        stop={\"env_runners/episode_return_mean\": 150.0},\n",
    "    ),\n",
    ")\n",
    "\n",
    "tuner.fit()"
   ]
  },
  {
   "cell_type": "code",
   "execution_count": null,
   "id": "7f52a5ad-8fc8-4990-98e2-414ea38e8a92",
   "metadata": {},
   "outputs": [],
   "source": [
    "from ray import train, tune\n",
    "\n",
    "# Tuner.fit() allows setting a custom log directory (other than ~/ray-results).\n",
    "tuner = tune.Tuner(\n",
    "    \"PPO\",\n",
    "    param_space=config,\n",
    "    run_config=train.RunConfig(\n",
    "        stop={\"num_env_steps_sampled_lifetime\": 20000},\n",
    "        checkpoint_config=train.CheckpointConfig(checkpoint_at_end=True),\n",
    "    ),\n",
    ")\n",
    "\n",
    "results = tuner.fit()\n",
    "\n",
    "# Get the best result based on a particular metric.\n",
    "best_result = results.get_best_result(\n",
    "    metric=\"env_runners/episode_return_mean\", mode=\"max\"\n",
    ")\n",
    "\n",
    "# Get the best checkpoint corresponding to the best result.\n",
    "best_checkpoint = best_result.checkpoint"
   ]
  },
  {
   "cell_type": "code",
   "execution_count": null,
   "id": "15c02a12-5f18-44ce-8d53-4f37bc867f62",
   "metadata": {},
   "outputs": [],
   "source": [
    "from ray.rllib.algorithms.algorithm import Algorithm\n",
    "algo = Algorithm.from_checkpoint(checkpoint_path)"
   ]
  },
  {
   "cell_type": "code",
   "execution_count": null,
   "id": "e97e7063-29b2-43d7-81a9-dbb86fc1f777",
   "metadata": {},
   "outputs": [],
   "source": [
    "import pathlib\n",
    "import gymnasium as gym\n",
    "import numpy as np\n",
    "import torch\n",
    "from ray.rllib.core.rl_module import RLModule\n",
    "\n",
    "env = gym.make(\"CartPole-v1\")\n",
    "\n",
    "# Create only the neural network (RLModule) from our checkpoint.\n",
    "rl_module = RLModule.from_checkpoint(\n",
    "    pathlib.Path(best_checkpoint.path) / \"learner_group\" / \"learner\" / \"rl_module\"\n",
    ")[\"default_policy\"]\n",
    "\n",
    "episode_return = 0\n",
    "terminated = truncated = False\n",
    "\n",
    "obs, info = env.reset()\n",
    "\n",
    "while not terminated and not truncated:\n",
    "    # Compute the next action from a batch (B=1) of observations.\n",
    "    torch_obs_batch = torch.from_numpy(np.array([obs]))\n",
    "    action_logits = rl_module.forward_inference({\"obs\": torch_obs_batch})[\n",
    "        \"action_dist_inputs\"\n",
    "    ]\n",
    "    # The default RLModule used here produces action logits (from which\n",
    "    # we'll have to sample an action or use the max-likelihood one).\n",
    "    action = torch.argmax(action_logits[0]).numpy()\n",
    "    obs, reward, terminated, truncated, info = env.step(action)\n",
    "    episode_return += reward\n",
    "\n",
    "print(f\"Reached episode return of {episode_return}.\")"
   ]
  },
  {
   "cell_type": "code",
   "execution_count": null,
   "id": "67b40adf-c579-421a-b2b0-d0b5bfcbb433",
   "metadata": {},
   "outputs": [],
   "source": [
    "from ray.rllib.algorithms.ppo import PPOConfig\n",
    "\n",
    "algo = (\n",
    "    PPOConfig()\n",
    "    .api_stack(\n",
    "        enable_rl_module_and_learner=True,\n",
    "        enable_env_runner_and_connector_v2=True,\n",
    "    )\n",
    "    .environment(\"CartPole-v1\")\n",
    "    .env_runners(num_env_runners=2)\n",
    ").build()\n",
    "\n",
    "# Get weights of the algo's RLModule.\n",
    "algo.get_module().get_state()\n",
    "\n",
    "# Same as above\n",
    "algo.env_runner.module.get_state()\n",
    "\n",
    "# Get list of weights of each EnvRunner, including remote replicas.\n",
    "algo.env_runner_group.foreach_worker(lambda env_runner: env_runner.module.get_state())\n",
    "\n",
    "# Same as above, but with index.\n",
    "algo.env_runner_group.foreach_worker_with_id(\n",
    "    lambda _id, env_runner: env_runner.module.get_state()\n",
    ")"
   ]
  },
  {
   "cell_type": "code",
   "execution_count": null,
   "id": "3afbead7-e84b-4ccb-bd50-3a15b41e1a6c",
   "metadata": {},
   "outputs": [],
   "source": [
    "try:\n",
    "    import gymnasium as gym\n",
    "\n",
    "    env = gym.make(\"ALE/Pong-v5\")\n",
    "    obs, infos = env.reset()\n",
    "except Exception:\n",
    "    import gym\n",
    "\n",
    "    env = gym.make(\"PongNoFrameskip-v4\")\n",
    "    obs = env.reset()\n",
    "\n",
    "# RLlib uses preprocessors to implement transforms such as one-hot encoding\n",
    "# and flattening of tuple and dict observations.\n",
    "from ray.rllib.models.preprocessors import get_preprocessor\n",
    "\n",
    "prep = get_preprocessor(env.observation_space)(env.observation_space)\n",
    "# <ray.rllib.models.preprocessors.GenericPixelPreprocessor object at 0x7fc4d049de80>\n",
    "\n",
    "# Observations should be preprocessed prior to feeding into a model\n",
    "obs.shape\n",
    "# (210, 160, 3)\n",
    "prep.transform(obs).shape\n",
    "# (84, 84, 3)"
   ]
  },
  {
   "cell_type": "code",
   "execution_count": null,
   "id": "a6b630bf-c69a-41d0-9768-8973fa1f297c",
   "metadata": {},
   "outputs": [],
   "source": [
    "# Get a reference to the policy\n",
    "import numpy as np\n",
    "from ray.rllib.algorithms.dqn import DQNConfig\n",
    "\n",
    "algo = (\n",
    "    DQNConfig()\n",
    "    .environment(\"CartPole-v1\")\n",
    "    .framework(\"tf2\")\n",
    "    .env_runners(num_env_runners=0)\n",
    "    .build()\n",
    ")\n",
    "# <ray.rllib.algorithms.ppo.PPO object at 0x7fd020186384>\n",
    "\n",
    "policy = algo.get_policy()\n",
    "# <ray.rllib.policy.eager_tf_policy.PPOTFPolicy_eager object at 0x7fd020165470>\n",
    "\n",
    "# Run a forward pass to get model output logits. Note that complex observations\n",
    "# must be preprocessed as in the above code block.\n",
    "logits, _ = policy.model({\"obs\": np.array([[0.1, 0.2, 0.3, 0.4]])})\n",
    "# (<tf.Tensor: id=1274, shape=(1, 2), dtype=float32, numpy=...>, [])\n",
    "\n",
    "# Compute action distribution given logits\n",
    "policy.dist_class\n",
    "# <class_object 'ray.rllib.models.tf.tf_action_dist.Categorical'>\n",
    "dist = policy.dist_class(logits, policy.model)\n",
    "# <ray.rllib.models.tf.tf_action_dist.Categorical object at 0x7fd02301d710>\n",
    "\n",
    "# Query the distribution for samples, sample logps\n",
    "dist.sample()\n",
    "# <tf.Tensor: id=661, shape=(1,), dtype=int64, numpy=..>\n",
    "dist.logp([1])\n",
    "# <tf.Tensor: id=1298, shape=(1,), dtype=float32, numpy=...>\n",
    "\n",
    "# Get the estimated values for the most recent forward pass\n",
    "policy.model.value_function()\n",
    "# <tf.Tensor: id=670, shape=(1,), dtype=float32, numpy=...>\n",
    "\n",
    "policy.model.base_model.summary()\n",
    "\"\"\"\n",
    "Model: \"model\"\n",
    "_____________________________________________________________________\n",
    "Layer (type)               Output Shape  Param #  Connected to\n",
    "=====================================================================\n",
    "observations (InputLayer)  [(None, 4)]   0\n",
    "_____________________________________________________________________\n",
    "fc_1 (Dense)               (None, 256)   1280     observations[0][0]\n",
    "_____________________________________________________________________\n",
    "fc_value_1 (Dense)         (None, 256)   1280     observations[0][0]\n",
    "_____________________________________________________________________\n",
    "fc_2 (Dense)               (None, 256)   65792    fc_1[0][0]\n",
    "_____________________________________________________________________\n",
    "fc_value_2 (Dense)         (None, 256)   65792    fc_value_1[0][0]\n",
    "_____________________________________________________________________\n",
    "fc_out (Dense)             (None, 2)     514      fc_2[0][0]\n",
    "_____________________________________________________________________\n",
    "value_out (Dense)          (None, 1)     257      fc_value_2[0][0]\n",
    "=====================================================================\n",
    "Total params: 134,915\n",
    "Trainable params: 134,915\n",
    "Non-trainable params: 0\n",
    "_____________________________________________________________________\n",
    "\"\"\""
   ]
  },
  {
   "cell_type": "code",
   "execution_count": null,
   "id": "db4f1975-675d-4e4e-963c-b414117acbb3",
   "metadata": {},
   "outputs": [],
   "source": [
    "# Get a reference to the model through the policy\n",
    "import numpy as np\n",
    "from ray.rllib.algorithms.dqn import DQNConfig\n",
    "\n",
    "algo = DQNConfig().environment(\"CartPole-v1\").framework(\"tf2\").build()\n",
    "model = algo.get_policy().model\n",
    "# <ray.rllib.models.catalog.FullyConnectedNetwork_as_DistributionalQModel ...>\n",
    "\n",
    "# List of all model variables\n",
    "model.variables()\n",
    "\n",
    "# Run a forward pass to get base model output. Note that complex observations\n",
    "# must be preprocessed. An example of preprocessing is\n",
    "# examples/offline_rl/saving_experiences.py\n",
    "model_out = model({\"obs\": np.array([[0.1, 0.2, 0.3, 0.4]])})\n",
    "# (<tf.Tensor: id=832, shape=(1, 256), dtype=float32, numpy=...)\n",
    "\n",
    "# Access the base Keras models (all default models have a base)\n",
    "model.base_model.summary()\n",
    "\"\"\"\n",
    "Model: \"model\"\n",
    "_______________________________________________________________________\n",
    "Layer (type)                Output Shape    Param #  Connected to\n",
    "=======================================================================\n",
    "observations (InputLayer)   [(None, 4)]     0\n",
    "_______________________________________________________________________\n",
    "fc_1 (Dense)                (None, 256)     1280     observations[0][0]\n",
    "_______________________________________________________________________\n",
    "fc_out (Dense)              (None, 256)     65792    fc_1[0][0]\n",
    "_______________________________________________________________________\n",
    "value_out (Dense)           (None, 1)       257      fc_1[0][0]\n",
    "=======================================================================\n",
    "Total params: 67,329\n",
    "Trainable params: 67,329\n",
    "Non-trainable params: 0\n",
    "______________________________________________________________________________\n",
    "\"\"\"\n",
    "\n",
    "# Access the Q value model (specific to DQN)\n",
    "print(model.get_q_value_distributions(model_out)[0])\n",
    "# tf.Tensor([[ 0.13023682 -0.36805138]], shape=(1, 2), dtype=float32)\n",
    "# ^ exact numbers may differ due to randomness\n",
    "\n",
    "model.q_value_head.summary()\n",
    "\n",
    "# Access the state value model (specific to DQN)\n",
    "print(model.get_state_value(model_out))\n",
    "# tf.Tensor([[0.09381643]], shape=(1, 1), dtype=float32)\n",
    "# ^ exact number may differ due to randomness\n",
    "\n",
    "model.state_value_head.summary()"
   ]
  },
  {
   "cell_type": "code",
   "execution_count": null,
   "id": "4a7752e3-fed7-4e07-9a36-517120792960",
   "metadata": {},
   "outputs": [],
   "source": [
    "from ray.rllib.algorithms.ppo import PPOConfig\n",
    "from ray.rllib.algorithms.callbacks import MemoryTrackingCallbacks\n",
    "# Construct a generic config object, specifying values within different\n",
    "# sub-categories, e.g. \"training\".\n",
    "config = (PPOConfig().training(gamma=0.9, lr=0.01)\n",
    "        .environment(env=\"CartPole-v1\")\n",
    "        .resources(num_gpus=0)\n",
    "        .env_runners(num_env_runners=0)\n",
    "        .callbacks(MemoryTrackingCallbacks)\n",
    "    )\n",
    "# A config object can be used to construct the respective Algorithm.\n",
    "rllib_algo = config.build()"
   ]
  }
 ],
 "metadata": {
  "kernelspec": {
   "display_name": "Python 3 (ipykernel)",
   "language": "python",
   "name": "python3"
  },
  "language_info": {
   "codemirror_mode": {
    "name": "ipython",
    "version": 3
   },
   "file_extension": ".py",
   "mimetype": "text/x-python",
   "name": "python",
   "nbconvert_exporter": "python",
   "pygments_lexer": "ipython3",
   "version": "3.11.7"
  }
 },
 "nbformat": 4,
 "nbformat_minor": 5
}
