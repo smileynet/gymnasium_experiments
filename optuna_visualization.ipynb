{
 "cells": [
  {
   "metadata": {
    "tags": []
   },
   "cell_type": "code",
   "source": [
    "%load_ext dotenv\n",
    "%dotenv\n",
    "\n",
    "import os\n",
    "\n",
    "# Fetch database connection details from environment variables\n",
    "db_name = os.getenv(\"DB_NAME\")\n",
    "db_user = os.getenv(\"DB_USER\")\n",
    "db_password = os.getenv(\"DB_PASSWORD\")\n",
    "db_host = os.getenv(\"DB_HOST\")\n",
    "db_port = os.getenv(\"DB_PORT\")\n",
    "\n",
    "# Construct the PostgreSQL connection URL\n",
    "mysql_url = f\"mysql+pymysql://{db_user}:{db_password}@{db_host}:{db_port}/{db_name}\""
   ],
   "id": "fa922be2-78b8-48ab-8a1c-ed9758162bbc",
   "outputs": [],
   "execution_count": null
  },
  {
   "cell_type": "code",
   "id": "1850498675302224",
   "metadata": {
    "ExecuteTime": {
     "end_time": "2024-09-23T14:22:30.029447Z",
     "start_time": "2024-09-23T14:22:28.106324Z"
    }
   },
   "source": [
    "import optuna\n",
    "study = optuna.study.load_study(study_name='1M_steps', storage=mysql_url)"
   ],
   "outputs": [],
   "execution_count": 4
  },
  {
   "cell_type": "code",
   "id": "2933bee2cc060e59",
   "metadata": {
    "ExecuteTime": {
     "end_time": "2024-09-23T14:22:34.639096Z",
     "start_time": "2024-09-23T14:22:34.016967Z"
    }
   },
   "source": [
    "best_trial = study.best_trial\n",
    "print(f\"Best trial: {best_trial.number}\")\n",
    "print(f\"Value: {best_trial.value}\")\n",
    "print(\"Params: \")\n",
    "for key, value in best_trial.params.items():\n",
    "    print(f\"    {key}: {value}\")"
   ],
   "outputs": [
    {
     "name": "stdout",
     "output_type": "stream",
     "text": [
      "Best trial: 26\n",
      "Value: 111.9383544921875\n",
      "Params: \n",
      "    batch_size: 1024\n",
      "    n_steps: 32\n",
      "    n_epochs: 5\n",
      "    gamma: 0.9889492313175872\n",
      "    gae_lambda: 0.8304325583515066\n",
      "    ent_coef: 0.004264269589637711\n"
     ]
    }
   ],
   "execution_count": 5
  },
  {
   "cell_type": "code",
   "id": "cd8e098a842cfbfd",
   "metadata": {
    "ExecuteTime": {
     "end_time": "2024-09-23T14:22:40.649022Z",
     "start_time": "2024-09-23T14:22:39.391425Z"
    }
   },
   "source": [
    "df = study.trials_dataframe(attrs=(\"number\", \"value\", \"params\", \"state\"))\n",
    "print(df)"
   ],
   "outputs": [
    {
     "name": "stdout",
     "output_type": "stream",
     "text": [
      "    number       value  params_batch_size  params_ent_coef  params_gae_lambda  \\\n",
      "0        0   94.101013               1024         0.003248           0.872390   \n",
      "1        1 -148.231247               2048         0.004839           0.907993   \n",
      "2        2 -124.188011               1024         0.000137           0.887406   \n",
      "3        3         NaN               1024         0.000540           0.807726   \n",
      "4        4         NaN               1024         0.005629           0.950725   \n",
      "5        5   36.841469                512         0.000383           0.805506   \n",
      "6        6 -241.252151               2048         0.001344           0.905305   \n",
      "7        7   98.746216                512         0.004757           0.932952   \n",
      "8        8  -20.672592                512         0.006298           0.811259   \n",
      "9        9 -227.209183               2048         0.006272           0.921644   \n",
      "10      10  -75.745880               2048         0.005699           0.945049   \n",
      "11      11  -98.585014                512         0.001783           0.887933   \n",
      "12      12  -94.996582                512         0.001485           0.981772   \n",
      "13      13  109.581238                512         0.009545           0.981803   \n",
      "14      14   10.680315                512         0.009915           0.996496   \n",
      "15      15  -20.703331                512         0.009705           0.997271   \n",
      "16      16  -38.271915                512         0.008745           0.958872   \n",
      "17      17  -21.862850                512         0.007657           0.959932   \n",
      "18      18   -7.194171                512         0.007747           0.954649   \n",
      "19      19  -68.826271               1024         0.004364           0.936530   \n",
      "20      20  -89.553787                512         0.007560           0.856818   \n",
      "21      21 -121.890305                512         0.003272           0.848176   \n",
      "22      22 -118.521042               1024         0.003340           0.972444   \n",
      "23      23  -63.505077                512         0.003661           0.923156   \n",
      "24      24         NaN               1024         0.003714           0.848017   \n",
      "25      25   16.915668               1024         0.002963           0.863869   \n",
      "26      26  111.938354               1024         0.004264           0.830433   \n",
      "27      27  -57.258034               1024         0.005463           0.833258   \n",
      "28      28         NaN               1024         0.004220           0.824015   \n",
      "\n",
      "    params_gamma  params_n_epochs  params_n_steps     state  \n",
      "0       0.993374                5              32  COMPLETE  \n",
      "1       0.946461                4              32  COMPLETE  \n",
      "2       0.964048                3             128  COMPLETE  \n",
      "3       0.961866                5              32   RUNNING  \n",
      "4       0.996164                3             128      FAIL  \n",
      "5       0.945876                5              64  COMPLETE  \n",
      "6       0.922446                3              32  COMPLETE  \n",
      "7       0.984326                5             128  COMPLETE  \n",
      "8       0.955285                3              32  COMPLETE  \n",
      "9       0.919267                3             128  COMPLETE  \n",
      "10      0.945919                5              32  COMPLETE  \n",
      "11      0.931790                4              64  COMPLETE  \n",
      "12      0.992382                4              64  COMPLETE  \n",
      "13      0.994641                5             128  COMPLETE  \n",
      "14      0.997443                5             128  COMPLETE  \n",
      "15      0.976754                5             128  COMPLETE  \n",
      "16      0.977044                5             128  COMPLETE  \n",
      "17      0.977398                5             128  COMPLETE  \n",
      "18      0.979285                4             128  COMPLETE  \n",
      "19      0.983721                4             128  COMPLETE  \n",
      "20      0.965512                4             128  COMPLETE  \n",
      "21      0.959603                5             128  COMPLETE  \n",
      "22      0.905166                5             128  COMPLETE  \n",
      "23      0.987444                5              64  COMPLETE  \n",
      "24      0.990537                5              32   RUNNING  \n",
      "25      0.998230                5              32  COMPLETE  \n",
      "26      0.988949                5              32  COMPLETE  \n",
      "27      0.987183                5              32  COMPLETE  \n",
      "28      0.969005                5              32      FAIL  \n"
     ]
    }
   ],
   "execution_count": 6
  },
  {
   "cell_type": "code",
   "id": "26569d1a04f8351b",
   "metadata": {
    "ExecuteTime": {
     "end_time": "2024-09-23T14:22:47.150004Z",
     "start_time": "2024-09-23T14:22:46.064103Z"
    }
   },
   "source": [
    "from optuna.visualization import (\n",
    "    plot_contour,\n",
    "    plot_edf,\n",
    "    plot_intermediate_values,\n",
    "    plot_parallel_coordinate,\n",
    "    plot_rank,\n",
    "    plot_slice,\n",
    "    plot_timeline,\n",
    ")\n",
    "\n",
    "plot_optimization_history(study)\n",
    "\n"
   ],
   "outputs": [
    {
     "ename": "NameError",
     "evalue": "name 'plot_optimization_history' is not defined",
     "output_type": "error",
     "traceback": [
      "\u001B[0;31m---------------------------------------------------------------------------\u001B[0m",
      "\u001B[0;31mNameError\u001B[0m                                 Traceback (most recent call last)",
      "Cell \u001B[0;32mIn[7], line 11\u001B[0m\n\u001B[1;32m      1\u001B[0m \u001B[38;5;28;01mfrom\u001B[39;00m \u001B[38;5;21;01moptuna\u001B[39;00m\u001B[38;5;21;01m.\u001B[39;00m\u001B[38;5;21;01mvisualization\u001B[39;00m \u001B[38;5;28;01mimport\u001B[39;00m (\n\u001B[1;32m      2\u001B[0m     plot_contour,\n\u001B[1;32m      3\u001B[0m     plot_edf,\n\u001B[0;32m   (...)\u001B[0m\n\u001B[1;32m      8\u001B[0m     plot_timeline,\n\u001B[1;32m      9\u001B[0m )\n\u001B[0;32m---> 11\u001B[0m \u001B[43mplot_optimization_history\u001B[49m(study)\n",
      "\u001B[0;31mNameError\u001B[0m: name 'plot_optimization_history' is not defined"
     ]
    }
   ],
   "execution_count": 7
  },
  {
   "cell_type": "code",
   "execution_count": null,
   "id": "58161eefd247734f",
   "metadata": {},
   "outputs": [],
   "source": [
    "plot_intermediate_values(study)\n"
   ]
  },
  {
   "cell_type": "code",
   "execution_count": null,
   "id": "af069aa8b26fc17a",
   "metadata": {},
   "outputs": [],
   "source": [
    "plot_parallel_coordinate(study)"
   ]
  },
  {
   "cell_type": "code",
   "execution_count": null,
   "id": "6854846f3c540281",
   "metadata": {},
   "outputs": [],
   "source": [
    "plot_contour(study)\n"
   ]
  },
  {
   "cell_type": "code",
   "execution_count": null,
   "id": "94ba4ffb561c95e8",
   "metadata": {},
   "outputs": [],
   "source": [
    "plot_slice(study)\n"
   ]
  },
  {
   "cell_type": "code",
   "execution_count": null,
   "id": "1ecdda521c0d8e9f",
   "metadata": {},
   "outputs": [],
   "source": [
    "plot_param_importances(study)\n"
   ]
  },
  {
   "cell_type": "code",
   "execution_count": null,
   "id": "c18536500614dfde",
   "metadata": {},
   "outputs": [],
   "source": [
    "plot_edf(study)\n"
   ]
  },
  {
   "cell_type": "code",
   "execution_count": null,
   "id": "27276e9cd7eb7eb8",
   "metadata": {},
   "outputs": [],
   "source": [
    "plot_rank(study)\n"
   ]
  },
  {
   "cell_type": "code",
   "execution_count": null,
   "id": "86fba2c7a2c292cf",
   "metadata": {},
   "outputs": [],
   "source": [
    "plot_timeline(study)"
   ]
  },
  {
   "cell_type": "code",
   "execution_count": null,
   "id": "7479eeb2-a45d-4a0c-9f0a-697df42fbabd",
   "metadata": {},
   "outputs": [],
   "source": [
    "\n",
    "# Visualize optimization history and parameter importances\n",
    "optimization_history_figure = plot_optimization_history(study)\n",
    "optimization_history_figure.write_image(\"optimization_history.png\")\n",
    "mlflow.log_artifact(\"optimization_history.png\")\n",
    "\n",
    "param_importance_figure = plot_param_importances(study)\n",
    "param_importance_figure.write_image(\"param_importances.png\")\n",
    "mlflow.log_artifact(\"param_importances.png\")\n"
   ]
  },
  {
   "cell_type": "code",
   "execution_count": null,
   "id": "0f488c5f-2df5-4dee-b92a-74adb89b6b98",
   "metadata": {
    "tags": []
   },
   "outputs": [],
   "source": [
    "env = gym.make(\"LunarLander-v2\")\n",
    "env.reset()\n",
    "print(\"Observation Space Shape\", env.observation_space.shape)\n",
    "print(\"Action Space Shape\", env.action_space.n)\n",
    "env.close()"
   ]
  },
  {
   "cell_type": "markdown",
   "id": "cbe64222-285d-4d08-98c4-a74e0057f3c7",
   "metadata": {},
   "source": [
    "## Benchmark CPU vs GPU"
   ]
  },
  {
   "cell_type": "code",
   "execution_count": null,
   "id": "e6bc7dc5-24c3-4884-9853-a768c033361e",
   "metadata": {
    "tags": []
   },
   "outputs": [],
   "source": [
    "import time\n",
    "\n",
    "import gymnasium as gym\n",
    "import torch\n",
    "\n",
    "TOTAL_TIMESTEPS = 100000  # Short benchmark to measure FPS\n",
    "\n",
    "def measure_fps(device):\n",
    "    \"\"\"\n",
    "    Measure FPS on the given device (cpu or cuda).\n",
    "    \"\"\"\n",
    "    # Create environment\n",
    "    env = make_vec_env(\"LunarLander-v2\", n_envs=1)\n",
    "\n",
    "    # Initialize the model on the specified device\n",
    "    model = PPO('MlpPolicy', env, device=device)\n",
    "\n",
    "    # Start timer\n",
    "    start_time = time.time()\n",
    "\n",
    "    # Train for a small number of timesteps (benchmark)\n",
    "    model.learn(total_timesteps=TOTAL_TIMESTEPS)\n",
    "\n",
    "    # End timer\n",
    "    end_time = time.time()\n",
    "\n",
    "    # Calculate FPS (frames per second)\n",
    "    elapsed_time = end_time - start_time\n",
    "    fps = TOTAL_TIMESTEPS / elapsed_time\n",
    "\n",
    "    # Clean up\n",
    "    env.close()\n",
    "\n",
    "    return fps\n",
    "\n",
    "# Check if GPU is available\n",
    "gpu_available = torch.cuda.is_available()\n",
    "\n",
    "# Measure FPS on CPU\n",
    "cpu_fps = measure_fps(device=\"cpu\")\n",
    "print(f\"CPU FPS: {cpu_fps:.2f}\")\n",
    "\n",
    "# Measure FPS on GPU (if available)\n",
    "if gpu_available:\n",
    "    gpu_fps = measure_fps(device=\"cuda\")\n",
    "    print(f\"GPU FPS: {gpu_fps:.2f}\")\n",
    "else:\n",
    "    gpu_fps = 0\n",
    "    print(\"GPU is not available.\")\n",
    "\n",
    "# Select the device with the higher FPS\n",
    "if gpu_fps > cpu_fps:\n",
    "    print(\"Using GPU for training.\")\n",
    "    chosen_device = \"cuda\"\n",
    "else:\n",
    "    print(\"Using CPU for training.\")\n",
    "    chosen_device = \"cpu\"\n",
    "\n"
   ]
  },
  {
   "cell_type": "markdown",
   "id": "934a15c1-16ca-4c1d-add2-ea5c84bb5cb1",
   "metadata": {},
   "source": [
    "## Examples"
   ]
  },
  {
   "cell_type": "code",
   "execution_count": null,
   "id": "5b1a0ee4-6d6d-4e76-80d9-a5f8dc56bb6b",
   "metadata": {},
   "outputs": [],
   "source": [
    "# TODO: Evaluate the agent with this instead\n",
    "\n",
    "# Create a new environment for evaluation\n",
    "eval_env = Monitor(gym.make(\"LunarLander-v2\"))\n",
    "\n",
    "# Evaluate the model with 10 evaluation episodes and deterministic=True\n",
    "mean_reward, std_reward = evaluate_policy(model, eval_env, n_eval_episodes=10, deterministic=True)\n",
    "\n",
    "# Print the results\n",
    "print(f\"mean_reward={mean_reward:.2f} +/- {std_reward}\")"
   ]
  },
  {
   "cell_type": "code",
   "execution_count": null,
   "id": "f30b501a-3b82-4a1d-907b-5073032f02d1",
   "metadata": {},
   "outputs": [],
   "source": [
    "import gymnasium as gym\n",
    "from huggingface_sb3 import package_to_hub\n",
    "from stable_baselines3.common.vec_env import DummyVecEnv\n",
    "\n",
    "# PLACE the variables you've just defined two cells above\n",
    "# Define the name of the environment\n",
    "env_id = \"LunarLander-v2\"\n",
    "\n",
    "# TODO: Define the model architecture we used\n",
    "model_architecture = \"PPO\"\n",
    "\n",
    "## Define a repo_id\n",
    "## repo_id is the id of the model repository from the Hugging Face Hub (repo_id = {organization}/{repo_name} for instance ThomasSimonini/ppo-LunarLander-v2\n",
    "## CHANGE WITH YOUR REPO ID\n",
    "repo_id = \"ThomasSimonini/ppo-LunarLander-v2\"  # Change with your repo id, you can't push with mine 😄\n",
    "\n",
    "## Define the commit message\n",
    "commit_message = \"Upload PPO LunarLander-v2 trained agent\"\n",
    "\n",
    "# Create the evaluation env and set the render_mode=\"rgb_array\"\n",
    "eval_env = DummyVecEnv([lambda: Monitor(gym.make(env_id, render_mode=\"rgb_array\"))])\n",
    "\n",
    "# PLACE the package_to_hub function you've just filled here\n",
    "package_to_hub(\n",
    "    model=model,  # Our trained model\n",
    "    model_name=model_name,  # The name of our trained model\n",
    "    model_architecture=model_architecture,  # The model architecture we used: in our case PPO\n",
    "    env_id=env_id,  # Name of the environment\n",
    "    eval_env=eval_env,  # Evaluation Environment\n",
    "    repo_id=repo_id,  # id of the model repository from the Hugging Face Hub (repo_id = {organization}/{repo_name} for instance ThomasSimonini/ppo-LunarLander-v2\n",
    "    commit_message=commit_message,\n",
    ")"
   ]
  }
 ],
 "metadata": {
  "kernelspec": {
   "display_name": "Python 3 (ipykernel)",
   "language": "python",
   "name": "python3"
  },
  "language_info": {
   "codemirror_mode": {
    "name": "ipython",
    "version": 3
   },
   "file_extension": ".py",
   "mimetype": "text/x-python",
   "name": "python",
   "nbconvert_exporter": "python",
   "pygments_lexer": "ipython3",
   "version": "3.11.7"
  }
 },
 "nbformat": 4,
 "nbformat_minor": 5
}
